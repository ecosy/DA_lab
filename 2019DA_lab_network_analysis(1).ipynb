{
 "cells": [
  {
   "cell_type": "markdown",
   "metadata": {},
   "source": [
    "# *DA lab 4주차 네트워크 분석: networkx 라이브러리 활용*"
   ]
  },
  {
   "cell_type": "markdown",
   "metadata": {},
   "source": [
    "## Network analysis"
   ]
  },
  {
   "cell_type": "markdown",
   "metadata": {},
   "source": [
    "### Contents\n",
    "* 네트워크 객체 생성\n",
    "* 그래프 객체에 노드 추가하기\n",
    "* 그래프 객체에 edge 추가하기\n",
    "* 노드에 속성 부여하기\n",
    "* edge에 속성 부여하기\n",
    "* 네트워크 시각화\n",
    "* 그래프의 1-mode 매트릭스 리턴\n",
    "* 중심성 분석"
   ]
  },
  {
   "cell_type": "markdown",
   "metadata": {},
   "source": [
    "### Used Library\n",
    "* networkx\n",
    "* matplotlib\n"
   ]
  },
  {
   "cell_type": "code",
   "execution_count": 22,
   "metadata": {
    "collapsed": true
   },
   "outputs": [],
   "source": [
    "\n",
    "import networkx as nx\n",
    "import matplotlib.pyplot as plt\n"
   ]
  },
  {
   "cell_type": "markdown",
   "metadata": {},
   "source": [
    "### 네트워크 객체 생성"
   ]
  },
  {
   "cell_type": "code",
   "execution_count": 23,
   "metadata": {
    "collapsed": false
   },
   "outputs": [
    {
     "data": {
      "image/png": "[encoded data removed]",
      "text/plain": [
       "<matplotlib.figure.Figure at 0x20a3378e940>"
      ]
     },
     "metadata": {},
     "output_type": "display_data"
    }
   ],
   "source": [
    "G=nx.Graph() #그래프 객체 (방향성 없음)\n",
    "G.add_edge(1,2) #edge 추가\n",
    "nx.draw(G) #그리기\n",
    "plt.show() #보이기\n"
   ]
  },
  {
   "cell_type": "markdown",
   "metadata": {},
   "source": [
    "### 그래프 객체에 노드 추가하기"
   ]
  },
  {
   "cell_type": "code",
   "execution_count": 24,
   "metadata": {
    "collapsed": false
   },
   "outputs": [
    {
     "data": {
      "text/plain": [
       "['mango', 'kiwi', 'apple', 'banana']"
      ]
     },
     "execution_count": 24,
     "metadata": {},
     "output_type": "execute_result"
    }
   ],
   "source": [
    "\n",
    "P=nx.Graph()\n",
    "P.add_node('apple') \n",
    "P.add_nodes_from(['banana','kiwi','mango'])\n",
    "P.nodes() \n"
   ]
  },
  {
   "cell_type": "markdown",
   "metadata": {},
   "source": [
    "### 그래프 객체에 edge 추가하기"
   ]
  },
  {
   "cell_type": "code",
   "execution_count": 25,
   "metadata": {
    "collapsed": false
   },
   "outputs": [
    {
     "data": {
      "text/plain": [
       "[('mango', 'apple'), ('kiwi', 'apple'), ('apple', 'banana')]"
      ]
     },
     "execution_count": 25,
     "metadata": {},
     "output_type": "execute_result"
    }
   ],
   "source": [
    "#edge 정의\n",
    "P.add_edge('apple','banana') # 튜플 혹은 두 개 노드의 관계를 명시하는 형태\n",
    "P.add_edges_from([('apple','mango'),('apple','kiwi')]) #쌍대 관계를 나타내는 튜플의 리스트형태로 삽입가능\n",
    "#P.remove_edges_from(['banana','apple'])\n",
    "P.edges()"
   ]
  },
  {
   "cell_type": "code",
   "execution_count": 26,
   "metadata": {
    "collapsed": false
   },
   "outputs": [
    {
     "data": {
      "text/plain": [
       "[('mango', 'apple'), ('kiwi', 'apple'), ('apple', 'banana')]"
      ]
     },
     "execution_count": 26,
     "metadata": {},
     "output_type": "execute_result"
    }
   ],
   "source": [
    "#P.remove_edges_from(('banana','apple'))\n",
    "P.edges()"
   ]
  },
  {
   "cell_type": "markdown",
   "metadata": {},
   "source": [
    "### 노드에 속성 부여하기"
   ]
  },
  {
   "cell_type": "code",
   "execution_count": 27,
   "metadata": {
    "collapsed": false
   },
   "outputs": [
    {
     "data": {
      "text/plain": [
       "{'size': 5}"
      ]
     },
     "execution_count": 27,
     "metadata": {},
     "output_type": "execute_result"
    }
   ],
   "source": [
    "\n",
    "P.node['kiwi']['size']=5\n",
    "P.add_nodes_from(['pear'],size=4)\n",
    "P.node['kiwi']\n",
    "#P.node['pear']"
   ]
  },
  {
   "cell_type": "code",
   "execution_count": 28,
   "metadata": {
    "collapsed": false
   },
   "outputs": [
    {
     "data": {
      "text/plain": [
       "{'size': 4}"
      ]
     },
     "execution_count": 28,
     "metadata": {},
     "output_type": "execute_result"
    }
   ],
   "source": [
    "P.node['pear']"
   ]
  },
  {
   "cell_type": "markdown",
   "metadata": {},
   "source": [
    "### edge에 속성 부여하기"
   ]
  },
  {
   "cell_type": "code",
   "execution_count": 29,
   "metadata": {
    "collapsed": false
   },
   "outputs": [
    {
     "data": {
      "text/plain": [
       "[('mango', 'apple', {'weight': 5}),\n",
       " ('kiwi', 'apple', {'weight': 2}),\n",
       " ('apple', 'pear', {'weight': 2.5}),\n",
       " ('apple', 'banana', {})]"
      ]
     },
     "execution_count": 29,
     "metadata": {},
     "output_type": "execute_result"
    }
   ],
   "source": [
    "#add_edge에는 속성이 무한대로 부여 가능하다\n",
    "P.add_edge('apple','pear',weight=2.5)\n",
    "P['apple']['mango']['weight']=5\n",
    "P.edge['apple']['kiwi']['weight']=2\n",
    "P.edges(data=True)"
   ]
  },
  {
   "cell_type": "markdown",
   "metadata": {},
   "source": [
    "### 네트워크 시각화"
   ]
  },
  {
   "cell_type": "code",
   "execution_count": 30,
   "metadata": {
    "collapsed": false
   },
   "outputs": [
    {
     "data": {
      "image/png": "[encoded data removed]",
      "text/plain": [
       "<matplotlib.figure.Figure at 0x20a335e1a90>"
      ]
     },
     "metadata": {},
     "output_type": "display_data"
    }
   ],
   "source": [
    "\n",
    "nx.draw_spring(P)\n",
    "\"\"\"\n",
    "draw_circular\n",
    "draw_kamada_kawai\n",
    "draw_spectral\n",
    "draw_spring\n",
    "draw_shell\n",
    "등등 layout 존재\n",
    "\"\"\"\n",
    "plt.show()\n"
   ]
  },
  {
   "cell_type": "code",
   "execution_count": 31,
   "metadata": {
    "collapsed": false
   },
   "outputs": [
    {
     "data": {
      "text/plain": [
       "['mango', 'kiwi', 'apple', 'banana', 'pear']"
      ]
     },
     "execution_count": 31,
     "metadata": {},
     "output_type": "execute_result"
    }
   ],
   "source": [
    "P.nodes()"
   ]
  },
  {
   "cell_type": "markdown",
   "metadata": {},
   "source": [
    "### 그래프의 1-mode 매트릭스 리턴"
   ]
  },
  {
   "cell_type": "code",
   "execution_count": 32,
   "metadata": {
    "collapsed": false
   },
   "outputs": [
    {
     "data": {
      "text/plain": [
       "matrix([[0. , 0. , 5. , 0. , 0. ],\n",
       "        [0. , 0. , 2. , 0. , 0. ],\n",
       "        [5. , 2. , 0. , 1. , 2.5],\n",
       "        [0. , 0. , 1. , 0. , 0. ],\n",
       "        [0. , 0. , 2.5, 0. , 0. ]])"
      ]
     },
     "execution_count": 32,
     "metadata": {},
     "output_type": "execute_result"
    }
   ],
   "source": [
    "nx.to_numpy_matrix(P) "
   ]
  },
  {
   "cell_type": "markdown",
   "metadata": {},
   "source": [
    "### 중심성 분석: key:node의 value:centrality인 Dictionary 형태"
   ]
  },
  {
   "cell_type": "code",
   "execution_count": 33,
   "metadata": {
    "collapsed": false
   },
   "outputs": [
    {
     "data": {
      "text/plain": [
       "{'apple': 1.0, 'banana': 0.0, 'kiwi': 0.0, 'mango': 0.0, 'pear': 0.0}"
      ]
     },
     "execution_count": 33,
     "metadata": {},
     "output_type": "execute_result"
    }
   ],
   "source": [
    "nx.betweenness_centrality(P)"
   ]
  },
  {
   "cell_type": "code",
   "execution_count": 34,
   "metadata": {
    "collapsed": false
   },
   "outputs": [
    {
     "data": {
      "text/plain": [
       "{'apple': 1.0,\n",
       " 'banana': 0.5714285714285714,\n",
       " 'kiwi': 0.5714285714285714,\n",
       " 'mango': 0.5714285714285714,\n",
       " 'pear': 0.5714285714285714}"
      ]
     },
     "execution_count": 34,
     "metadata": {},
     "output_type": "execute_result"
    }
   ],
   "source": [
    "nx.closeness_centrality(P)"
   ]
  },
  {
   "cell_type": "code",
   "execution_count": 35,
   "metadata": {
    "collapsed": false
   },
   "outputs": [
    {
     "data": {
      "text/plain": [
       "{'apple': 1.0, 'banana': 0.25, 'kiwi': 0.25, 'mango': 0.25, 'pear': 0.25}"
      ]
     },
     "execution_count": 35,
     "metadata": {},
     "output_type": "execute_result"
    }
   ],
   "source": [
    "nx.degree_centrality(P)"
   ]
  }
 ],
 "metadata": {
  "anaconda-cloud": {},
  "kernelspec": {
   "display_name": "Python [conda root]",
   "language": "python",
   "name": "conda-root-py"
  },
  "language_info": {
   "codemirror_mode": {
    "name": "ipython",
    "version": 3
   },
   "file_extension": ".py",
   "mimetype": "text/x-python",
   "name": "python",
   "nbconvert_exporter": "python",
   "pygments_lexer": "ipython3",
   "version": "3.5.2"
  }
 },
 "nbformat": 4,
 "nbformat_minor": 1
}
