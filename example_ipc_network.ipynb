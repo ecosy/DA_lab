{
 "cells": [
  {
   "cell_type": "markdown",
   "metadata": {
    "slideshow": {
     "slide_type": "-"
    }
   },
   "source": [
    "# *DA lab 4주차 네트워크 분석: 특허데이터에서 IPC 동시출현 네트워크 생성"
   ]
  },
  {
   "cell_type": "code",
   "execution_count": 1,
   "metadata": {
    "collapsed": true
   },
   "outputs": [],
   "source": [
    "import pandas as pd\n",
    "import itertools as it\n",
    "import pymysql"
   ]
  },
  {
   "cell_type": "code",
   "execution_count": 4,
   "metadata": {
    "collapsed": false
   },
   "outputs": [],
   "source": [
    "conn = pymysql.connect(host=\"localhost\", user=\"root\", password=\"kktmlab1\", db=\"da\", charset=\"utf8mb4\")\n",
    "cursor = conn.cursor()\n",
    "cursor.execute(\"SELECT * FROM da.patent_ipc\")\n",
    "db=cursor.fetchall()"
   ]
  },
  {
   "cell_type": "code",
   "execution_count": 5,
   "metadata": {
    "collapsed": true
   },
   "outputs": [],
   "source": [
    "patent_list=[]\n",
    "edg_list=[]"
   ]
  },
  {
   "cell_type": "code",
   "execution_count": 6,
   "metadata": {
    "collapsed": false
   },
   "outputs": [],
   "source": [
    "for reg_num, ipcfull in db:\n",
    "    edg_list.append((reg_num, ipcfull, 1)) # (특허,IPC,1), (특허, IPC,1)\n",
    "    patent_list.append(reg_num)"
   ]
  },
  {
   "cell_type": "code",
   "execution_count": 7,
   "metadata": {
    "collapsed": false
   },
   "outputs": [
    {
     "data": {
      "text/plain": [
       "[(9848521, 'A01B', 1),\n",
       " (9848521, 'B07B', 1),\n",
       " (9848521, 'E02F', 1),\n",
       " (9848522, 'A01B', 1),\n",
       " (9848522, 'G01L', 1),\n",
       " (9848523, 'A01B', 1),\n",
       " (9848523, 'A01C', 1),\n",
       " (9848523, 'G01L', 1),\n",
       " (9848524, 'A01B', 1),\n",
       " (9848524, 'A01C', 1),\n",
       " (9848525, 'A01C', 1),\n",
       " (9848525, 'B65G', 1),\n",
       " (9848526, 'A01B', 1),\n",
       " (9848526, 'A01C', 1),\n",
       " (9848527, 'A01B', 1),\n",
       " (9848527, 'A01C', 1),\n",
       " (9848528, 'A01C', 1),\n",
       " (9848528, 'G01S', 1),\n",
       " (9848529, 'A01D', 1),\n",
       " (9848530, 'A01D', 1),\n",
       " (9848530, 'A01F', 1),\n",
       " (9848531, 'A01D', 1),\n",
       " (9848532, 'A01D', 1),\n",
       " (9848533, 'A01D', 1),\n",
       " (9848534, 'A01D', 1),\n",
       " (9848535, 'A01D', 1),\n",
       " (9848536, 'A01B', 1),\n",
       " (9848536, 'A01D', 1),\n",
       " (9848536, 'A01F', 1),\n",
       " (9848536, 'B60P', 1),\n",
       " (9848536, 'B65G', 1),\n",
       " (9848537, 'A01D', 1),\n",
       " (9848537, 'A01F', 1),\n",
       " (9848538, 'A01B', 1),\n",
       " (9848538, 'A01G', 1),\n",
       " (9848538, 'B66F', 1),\n",
       " (9848539, 'A01G', 1),\n",
       " (9848539, 'B26B', 1),\n",
       " (9848540, 'A01G', 1),\n",
       " (9848540, 'F21V', 1),\n",
       " (9848541, 'A01G', 1),\n",
       " (9848542, 'A01G', 1),\n",
       " (9848542, 'A01N', 1),\n",
       " (9848542, 'C05G', 1),\n",
       " (9848542, 'E02B', 1),\n",
       " (9848543, 'A01G', 1),\n",
       " (9848544, 'A01G', 1),\n",
       " (9848545, 'A01G', 1),\n",
       " (9848546, 'A01H', 1),\n",
       " (9848547, 'A01H', 1),\n",
       " (9848547, 'A23L', 1),\n",
       " (9848547, 'C12N', 1),\n",
       " (9848548, 'A01G', 1),\n",
       " (9848548, 'A01H', 1),\n",
       " (9848548, 'C12N', 1),\n",
       " (9848549, 'A01H', 1),\n",
       " (9848550, 'A01H', 1),\n",
       " (9848551, 'A01H', 1),\n",
       " (9848551, 'C12N', 1),\n",
       " (9848552, 'A01H', 1),\n",
       " (9848552, 'C12N', 1),\n",
       " (9848553, 'A01H', 1),\n",
       " (9848553, 'C12N', 1),\n",
       " (9848554, 'A01H', 1),\n",
       " (9848554, 'C12N', 1),\n",
       " (9848555, 'A01H', 1),\n",
       " (9848555, 'C12N', 1),\n",
       " (9848556, 'A01H', 1),\n",
       " (9848556, 'C12N', 1),\n",
       " (9848557, 'A01H', 1),\n",
       " (9848557, 'C12N', 1),\n",
       " (9848558, 'A01H', 1),\n",
       " (9848558, 'C12N', 1),\n",
       " (9848559, 'A01H', 1),\n",
       " (9848559, 'C12N', 1),\n",
       " (9848560, 'A01H', 1),\n",
       " (9848560, 'C12N', 1),\n",
       " (9848561, 'A01H', 1),\n",
       " (9848562, 'A01H', 1),\n",
       " (9848562, 'C12N', 1),\n",
       " (9848563, 'A01H', 1),\n",
       " (9848563, 'C12N', 1),\n",
       " (9848564, 'A01H', 1),\n",
       " (9848564, 'C12N', 1),\n",
       " (9848565, 'A01H', 1),\n",
       " (9848565, 'C12N', 1),\n",
       " (9848566, 'A01H', 1),\n",
       " (9848566, 'C12N', 1),\n",
       " (9848567, 'A01H', 1),\n",
       " (9848567, 'C12N', 1),\n",
       " (9848568, 'A01H', 1),\n",
       " (9848568, 'C12N', 1),\n",
       " (9848569, 'A01H', 1),\n",
       " (9848569, 'C12N', 1),\n",
       " (9848570, 'A01H', 1),\n",
       " (9848570, 'C12N', 1),\n",
       " (9848571, 'A01H', 1),\n",
       " (9848571, 'C12N', 1),\n",
       " (9848572, 'A01H', 1),\n",
       " (9848572, 'C12N', 1),\n",
       " (9848573, 'A01H', 1),\n",
       " (9848573, 'C12N', 1),\n",
       " (9848574, 'A01H', 1),\n",
       " (9848575, 'A01J', 1),\n",
       " (9848576, 'A01J', 1),\n",
       " (9848576, 'A01K', 1),\n",
       " (9848577, 'A01K', 1),\n",
       " (9848577, 'A61D', 1),\n",
       " (9848577, 'G08B', 1),\n",
       " (9848578, 'A01K', 1),\n",
       " (9848579, 'A01K', 1),\n",
       " (9848579, 'A63B', 1),\n",
       " (9848579, 'B65D', 1),\n",
       " (9848580, 'A01K', 1),\n",
       " (9848580, 'A63H', 1),\n",
       " (9848581, 'A01K', 1),\n",
       " (9848581, 'B25B', 1),\n",
       " (9848581, 'F21V', 1),\n",
       " (9848582, 'A01K', 1),\n",
       " (9848583, 'A01K', 1),\n",
       " (9848584, 'A01K', 1),\n",
       " (9848585, 'A01K', 1),\n",
       " (9848585, 'F16B', 1),\n",
       " (9848585, 'F16M', 1),\n",
       " (9848586, 'A01K', 1),\n",
       " (9848586, 'F24F', 1),\n",
       " (9848586, 'F24J', 1),\n",
       " (9848587, 'A01K', 1),\n",
       " (9848587, 'C07K', 1),\n",
       " (9848587, 'C12N', 1),\n",
       " (9848588, 'A01K', 1),\n",
       " (9848589, 'A01K', 1),\n",
       " (9848590, 'A01K', 1),\n",
       " (9848591, 'A01M', 1),\n",
       " (9848591, 'A41D', 1),\n",
       " (9848591, 'A42B', 1),\n",
       " (9848591, 'A45F', 1),\n",
       " (9848592, 'A01M', 1),\n",
       " (9848593, 'A01M', 1),\n",
       " (9848594, 'A01M', 1),\n",
       " (9848595, 'A01M', 1),\n",
       " (9848595, 'B62D', 1),\n",
       " (9848595, 'E06B', 1),\n",
       " (9848596, 'A01M', 1),\n",
       " (9848597, 'A01M', 1),\n",
       " (9848598, 'A01N', 1),\n",
       " (9848598, 'A61K', 1),\n",
       " (9848598, 'C12N', 1),\n",
       " (9848599, 'A01N', 1),\n",
       " (9848599, 'A61K', 1),\n",
       " (9848600, 'A01N', 1),\n",
       " (9848600, 'A61K', 1),\n",
       " (9848600, 'A61Q', 1),\n",
       " (9848601, 'A01N', 1),\n",
       " (9848602, 'A01N', 1),\n",
       " (9848603, 'A01N', 1),\n",
       " (9848603, 'C12N', 1),\n",
       " (9848604, 'A01N', 1),\n",
       " (9848604, 'A61K', 1),\n",
       " (9848604, 'A61L', 1),\n",
       " (9848605, 'A01M', 1),\n",
       " (9848605, 'A01N', 1),\n",
       " (9848606, 'A01N', 1),\n",
       " (9848607, 'A21B', 1),\n",
       " (9848607, 'A21C', 1),\n",
       " (9848607, 'A21D', 1),\n",
       " (9848607, 'A47J', 1),\n",
       " (9848608, 'A21C', 1),\n",
       " (9848608, 'A21D', 1),\n",
       " (9848608, 'B01F', 1),\n",
       " (9848609, 'A21D', 1),\n",
       " (9848609, 'B65B', 1),\n",
       " (9848609, 'B65D', 1),\n",
       " (9848610, 'A22C', 1),\n",
       " (9848611, 'A22C', 1),\n",
       " (9848611, 'B65G', 1),\n",
       " (9848612, 'A23B', 1),\n",
       " (9848613, 'A23C', 1),\n",
       " (9848614, 'A23C', 1),\n",
       " (9848614, 'C12N', 1),\n",
       " (9848615, 'A23C', 1),\n",
       " (9848615, 'C12N', 1),\n",
       " (9848616, 'A01J', 1),\n",
       " (9848616, 'A23C', 1),\n",
       " (9848616, 'A23L', 1),\n",
       " (9848617, 'A23C', 1),\n",
       " (9848618, 'A23G', 1),\n",
       " (9848618, 'A23P', 1),\n",
       " (9848619, 'A23G', 1),\n",
       " (9848619, 'C08L', 1),\n",
       " (9848620, 'A23G', 1),\n",
       " (9848620, 'A23L', 1),\n",
       " (9848620, 'F25B', 1),\n",
       " (9848620, 'F25D', 1)]"
      ]
     },
     "execution_count": 7,
     "metadata": {},
     "output_type": "execute_result"
    }
   ],
   "source": [
    "edg_list"
   ]
  },
  {
   "cell_type": "code",
   "execution_count": 8,
   "metadata": {
    "collapsed": true
   },
   "outputs": [],
   "source": [
    "edg_list2=dict()"
   ]
  },
  {
   "cell_type": "code",
   "execution_count": 9,
   "metadata": {
    "collapsed": false
   },
   "outputs": [
    {
     "data": {
      "text/plain": [
       "(9848521, 'A01B', 1)"
      ]
     },
     "execution_count": 9,
     "metadata": {},
     "output_type": "execute_result"
    }
   ],
   "source": [
    "edg_list[0]"
   ]
  },
  {
   "cell_type": "code",
   "execution_count": 12,
   "metadata": {
    "collapsed": false
   },
   "outputs": [
    {
     "data": {
      "text/plain": [
       "{9848521: ['A01B', 'B07B', 'E02F'],\n",
       " 9848522: ['A01B', 'G01L'],\n",
       " 9848523: ['A01B', 'A01C', 'G01L'],\n",
       " 9848524: ['A01B', 'A01C'],\n",
       " 9848525: ['A01C', 'B65G'],\n",
       " 9848526: ['A01B', 'A01C'],\n",
       " 9848527: ['A01B', 'A01C'],\n",
       " 9848528: ['A01C', 'G01S'],\n",
       " 9848529: ['A01D'],\n",
       " 9848530: ['A01D', 'A01F'],\n",
       " 9848531: ['A01D'],\n",
       " 9848532: ['A01D'],\n",
       " 9848533: ['A01D'],\n",
       " 9848534: ['A01D'],\n",
       " 9848535: ['A01D'],\n",
       " 9848536: ['A01B', 'A01D', 'A01F', 'B60P', 'B65G'],\n",
       " 9848537: ['A01D', 'A01F'],\n",
       " 9848538: ['A01B', 'A01G', 'B66F'],\n",
       " 9848539: ['A01G', 'B26B'],\n",
       " 9848540: ['A01G', 'F21V'],\n",
       " 9848541: ['A01G'],\n",
       " 9848542: ['A01G', 'A01N', 'C05G', 'E02B'],\n",
       " 9848543: ['A01G'],\n",
       " 9848544: ['A01G'],\n",
       " 9848545: ['A01G'],\n",
       " 9848546: ['A01H'],\n",
       " 9848547: ['A01H', 'A23L', 'C12N'],\n",
       " 9848548: ['A01G', 'A01H', 'C12N'],\n",
       " 9848549: ['A01H'],\n",
       " 9848550: ['A01H'],\n",
       " 9848551: ['A01H', 'C12N'],\n",
       " 9848552: ['A01H', 'C12N'],\n",
       " 9848553: ['A01H', 'C12N'],\n",
       " 9848554: ['A01H', 'C12N'],\n",
       " 9848555: ['A01H', 'C12N'],\n",
       " 9848556: ['A01H', 'C12N'],\n",
       " 9848557: ['A01H', 'C12N'],\n",
       " 9848558: ['A01H', 'C12N'],\n",
       " 9848559: ['A01H', 'C12N'],\n",
       " 9848560: ['A01H', 'C12N'],\n",
       " 9848561: ['A01H'],\n",
       " 9848562: ['A01H', 'C12N'],\n",
       " 9848563: ['A01H', 'C12N'],\n",
       " 9848564: ['A01H', 'C12N'],\n",
       " 9848565: ['A01H', 'C12N'],\n",
       " 9848566: ['A01H', 'C12N'],\n",
       " 9848567: ['A01H', 'C12N'],\n",
       " 9848568: ['A01H', 'C12N'],\n",
       " 9848569: ['A01H', 'C12N'],\n",
       " 9848570: ['A01H', 'C12N'],\n",
       " 9848571: ['A01H', 'C12N'],\n",
       " 9848572: ['A01H', 'C12N'],\n",
       " 9848573: ['A01H', 'C12N'],\n",
       " 9848574: ['A01H'],\n",
       " 9848575: ['A01J'],\n",
       " 9848576: ['A01J', 'A01K'],\n",
       " 9848577: ['A01K', 'A61D', 'G08B'],\n",
       " 9848578: ['A01K'],\n",
       " 9848579: ['A01K', 'A63B', 'B65D'],\n",
       " 9848580: ['A01K', 'A63H'],\n",
       " 9848581: ['A01K', 'B25B', 'F21V'],\n",
       " 9848582: ['A01K'],\n",
       " 9848583: ['A01K'],\n",
       " 9848584: ['A01K'],\n",
       " 9848585: ['A01K', 'F16B', 'F16M'],\n",
       " 9848586: ['A01K', 'F24F', 'F24J'],\n",
       " 9848587: ['A01K', 'C07K', 'C12N'],\n",
       " 9848588: ['A01K'],\n",
       " 9848589: ['A01K'],\n",
       " 9848590: ['A01K'],\n",
       " 9848591: ['A01M', 'A41D', 'A42B', 'A45F'],\n",
       " 9848592: ['A01M'],\n",
       " 9848593: ['A01M'],\n",
       " 9848594: ['A01M'],\n",
       " 9848595: ['A01M', 'B62D', 'E06B'],\n",
       " 9848596: ['A01M'],\n",
       " 9848597: ['A01M'],\n",
       " 9848598: ['A01N', 'A61K', 'C12N'],\n",
       " 9848599: ['A01N', 'A61K'],\n",
       " 9848600: ['A01N', 'A61K', 'A61Q'],\n",
       " 9848601: ['A01N'],\n",
       " 9848602: ['A01N'],\n",
       " 9848603: ['A01N', 'C12N'],\n",
       " 9848604: ['A01N', 'A61K', 'A61L'],\n",
       " 9848605: ['A01M', 'A01N'],\n",
       " 9848606: ['A01N'],\n",
       " 9848607: ['A21B', 'A21C', 'A21D', 'A47J'],\n",
       " 9848608: ['A21C', 'A21D', 'B01F'],\n",
       " 9848609: ['A21D', 'B65B', 'B65D'],\n",
       " 9848610: ['A22C'],\n",
       " 9848611: ['A22C', 'B65G'],\n",
       " 9848612: ['A23B'],\n",
       " 9848613: ['A23C'],\n",
       " 9848614: ['A23C', 'C12N'],\n",
       " 9848615: ['A23C', 'C12N'],\n",
       " 9848616: ['A01J', 'A23C', 'A23L'],\n",
       " 9848617: ['A23C'],\n",
       " 9848618: ['A23G', 'A23P'],\n",
       " 9848619: ['A23G', 'C08L'],\n",
       " 9848620: ['A23G', 'A23L', 'F25B', 'F25D']}"
      ]
     },
     "execution_count": 12,
     "metadata": {},
     "output_type": "execute_result"
    }
   ],
   "source": [
    "edg_list2\n",
    "# edg_list2[9848537]"
   ]
  },
  {
   "cell_type": "code",
   "execution_count": 10,
   "metadata": {
    "collapsed": false
   },
   "outputs": [],
   "source": [
    "#{특허번호: (ipc1, ipc2)} 생성\n",
    "for reg, ipc,_ in edg_list:\n",
    "    if edg_list2.get(reg): #키가 없을 경우 none\n",
    "        edg_list2[reg].append(ipc) #기존 특허의 값인 IPC 리스트에 append 추가!!\n",
    "    else: \n",
    "        edg_list2[reg]=[ipc] #새로온 특허의 값으로 IPC 리스트 생성 {특허번호: (ipc1,ipc)}"
   ]
  },
  {
   "cell_type": "code",
   "execution_count": 11,
   "metadata": {
    "collapsed": false
   },
   "outputs": [
    {
     "data": {
      "text/plain": [
       "{9848521: ['A01B', 'B07B', 'E02F'],\n",
       " 9848522: ['A01B', 'G01L'],\n",
       " 9848523: ['A01B', 'A01C', 'G01L'],\n",
       " 9848524: ['A01B', 'A01C'],\n",
       " 9848525: ['A01C', 'B65G'],\n",
       " 9848526: ['A01B', 'A01C'],\n",
       " 9848527: ['A01B', 'A01C'],\n",
       " 9848528: ['A01C', 'G01S'],\n",
       " 9848529: ['A01D'],\n",
       " 9848530: ['A01D', 'A01F'],\n",
       " 9848531: ['A01D'],\n",
       " 9848532: ['A01D'],\n",
       " 9848533: ['A01D'],\n",
       " 9848534: ['A01D'],\n",
       " 9848535: ['A01D'],\n",
       " 9848536: ['A01B', 'A01D', 'A01F', 'B60P', 'B65G'],\n",
       " 9848537: ['A01D', 'A01F'],\n",
       " 9848538: ['A01B', 'A01G', 'B66F'],\n",
       " 9848539: ['A01G', 'B26B'],\n",
       " 9848540: ['A01G', 'F21V'],\n",
       " 9848541: ['A01G'],\n",
       " 9848542: ['A01G', 'A01N', 'C05G', 'E02B'],\n",
       " 9848543: ['A01G'],\n",
       " 9848544: ['A01G'],\n",
       " 9848545: ['A01G'],\n",
       " 9848546: ['A01H'],\n",
       " 9848547: ['A01H', 'A23L', 'C12N'],\n",
       " 9848548: ['A01G', 'A01H', 'C12N'],\n",
       " 9848549: ['A01H'],\n",
       " 9848550: ['A01H'],\n",
       " 9848551: ['A01H', 'C12N'],\n",
       " 9848552: ['A01H', 'C12N'],\n",
       " 9848553: ['A01H', 'C12N'],\n",
       " 9848554: ['A01H', 'C12N'],\n",
       " 9848555: ['A01H', 'C12N'],\n",
       " 9848556: ['A01H', 'C12N'],\n",
       " 9848557: ['A01H', 'C12N'],\n",
       " 9848558: ['A01H', 'C12N'],\n",
       " 9848559: ['A01H', 'C12N'],\n",
       " 9848560: ['A01H', 'C12N'],\n",
       " 9848561: ['A01H'],\n",
       " 9848562: ['A01H', 'C12N'],\n",
       " 9848563: ['A01H', 'C12N'],\n",
       " 9848564: ['A01H', 'C12N'],\n",
       " 9848565: ['A01H', 'C12N'],\n",
       " 9848566: ['A01H', 'C12N'],\n",
       " 9848567: ['A01H', 'C12N'],\n",
       " 9848568: ['A01H', 'C12N'],\n",
       " 9848569: ['A01H', 'C12N'],\n",
       " 9848570: ['A01H', 'C12N'],\n",
       " 9848571: ['A01H', 'C12N'],\n",
       " 9848572: ['A01H', 'C12N'],\n",
       " 9848573: ['A01H', 'C12N'],\n",
       " 9848574: ['A01H'],\n",
       " 9848575: ['A01J'],\n",
       " 9848576: ['A01J', 'A01K'],\n",
       " 9848577: ['A01K', 'A61D', 'G08B'],\n",
       " 9848578: ['A01K'],\n",
       " 9848579: ['A01K', 'A63B', 'B65D'],\n",
       " 9848580: ['A01K', 'A63H'],\n",
       " 9848581: ['A01K', 'B25B', 'F21V'],\n",
       " 9848582: ['A01K'],\n",
       " 9848583: ['A01K'],\n",
       " 9848584: ['A01K'],\n",
       " 9848585: ['A01K', 'F16B', 'F16M'],\n",
       " 9848586: ['A01K', 'F24F', 'F24J'],\n",
       " 9848587: ['A01K', 'C07K', 'C12N'],\n",
       " 9848588: ['A01K'],\n",
       " 9848589: ['A01K'],\n",
       " 9848590: ['A01K'],\n",
       " 9848591: ['A01M', 'A41D', 'A42B', 'A45F'],\n",
       " 9848592: ['A01M'],\n",
       " 9848593: ['A01M'],\n",
       " 9848594: ['A01M'],\n",
       " 9848595: ['A01M', 'B62D', 'E06B'],\n",
       " 9848596: ['A01M'],\n",
       " 9848597: ['A01M'],\n",
       " 9848598: ['A01N', 'A61K', 'C12N'],\n",
       " 9848599: ['A01N', 'A61K'],\n",
       " 9848600: ['A01N', 'A61K', 'A61Q'],\n",
       " 9848601: ['A01N'],\n",
       " 9848602: ['A01N'],\n",
       " 9848603: ['A01N', 'C12N'],\n",
       " 9848604: ['A01N', 'A61K', 'A61L'],\n",
       " 9848605: ['A01M', 'A01N'],\n",
       " 9848606: ['A01N'],\n",
       " 9848607: ['A21B', 'A21C', 'A21D', 'A47J'],\n",
       " 9848608: ['A21C', 'A21D', 'B01F'],\n",
       " 9848609: ['A21D', 'B65B', 'B65D'],\n",
       " 9848610: ['A22C'],\n",
       " 9848611: ['A22C', 'B65G'],\n",
       " 9848612: ['A23B'],\n",
       " 9848613: ['A23C'],\n",
       " 9848614: ['A23C', 'C12N'],\n",
       " 9848615: ['A23C', 'C12N'],\n",
       " 9848616: ['A01J', 'A23C', 'A23L'],\n",
       " 9848617: ['A23C'],\n",
       " 9848618: ['A23G', 'A23P'],\n",
       " 9848619: ['A23G', 'C08L'],\n",
       " 9848620: ['A23G', 'A23L', 'F25B', 'F25D']}"
      ]
     },
     "execution_count": 11,
     "metadata": {},
     "output_type": "execute_result"
    }
   ],
   "source": [
    "edg_list2\n"
   ]
  },
  {
   "cell_type": "code",
   "execution_count": 13,
   "metadata": {
    "collapsed": true
   },
   "outputs": [],
   "source": [
    "co_edlst={} # {(ipc1, ipc2), frequency}"
   ]
  },
  {
   "cell_type": "code",
   "execution_count": 15,
   "metadata": {
    "collapsed": false
   },
   "outputs": [],
   "source": [
    "#특허가 보유한 IPC 간의 동시출현빈도 계산: 특허의 IPC 리스트에서 쌍대비교\n",
    "for k, v in edg_list2.items(): #items 리스트에서 key와 value를 호출하는 반복문\n",
    "    for ipc1, ipc2 in it.combinations(v,2):\n",
    "        tmp=(ipc1,ipc2) if ipc2<ipc1 else(ipc2, ipc1)\n",
    "        if co_edlst.get(tmp, False):\n",
    "            co_edlst[tmp]+=1\n",
    "        else: \n",
    "            co_edlst[tmp]=1"
   ]
  },
  {
   "cell_type": "code",
   "execution_count": 16,
   "metadata": {
    "collapsed": false
   },
   "outputs": [
    {
     "data": {
      "text/plain": [
       "{('A01C', 'A01B'): 8,\n",
       " ('A01D', 'A01B'): 2,\n",
       " ('A01F', 'A01B'): 2,\n",
       " ('A01F', 'A01D'): 6,\n",
       " ('A01G', 'A01B'): 2,\n",
       " ('A01H', 'A01G'): 2,\n",
       " ('A01K', 'A01J'): 2,\n",
       " ('A01N', 'A01G'): 2,\n",
       " ('A01N', 'A01M'): 2,\n",
       " ('A21C', 'A21B'): 2,\n",
       " ('A21D', 'A21B'): 2,\n",
       " ('A21D', 'A21C'): 4,\n",
       " ('A23C', 'A01J'): 2,\n",
       " ('A23L', 'A01H'): 2,\n",
       " ('A23L', 'A01J'): 2,\n",
       " ('A23L', 'A23C'): 2,\n",
       " ('A23L', 'A23G'): 2,\n",
       " ('A23P', 'A23G'): 2,\n",
       " ('A41D', 'A01M'): 2,\n",
       " ('A42B', 'A01M'): 2,\n",
       " ('A42B', 'A41D'): 2,\n",
       " ('A45F', 'A01M'): 2,\n",
       " ('A45F', 'A41D'): 2,\n",
       " ('A45F', 'A42B'): 2,\n",
       " ('A47J', 'A21B'): 2,\n",
       " ('A47J', 'A21C'): 2,\n",
       " ('A47J', 'A21D'): 2,\n",
       " ('A61D', 'A01K'): 2,\n",
       " ('A61K', 'A01N'): 8,\n",
       " ('A61L', 'A01N'): 2,\n",
       " ('A61L', 'A61K'): 2,\n",
       " ('A61Q', 'A01N'): 2,\n",
       " ('A61Q', 'A61K'): 2,\n",
       " ('A63B', 'A01K'): 2,\n",
       " ('A63H', 'A01K'): 2,\n",
       " ('B01F', 'A21C'): 2,\n",
       " ('B01F', 'A21D'): 2,\n",
       " ('B07B', 'A01B'): 2,\n",
       " ('B25B', 'A01K'): 2,\n",
       " ('B26B', 'A01G'): 2,\n",
       " ('B60P', 'A01B'): 2,\n",
       " ('B60P', 'A01D'): 2,\n",
       " ('B60P', 'A01F'): 2,\n",
       " ('B62D', 'A01M'): 2,\n",
       " ('B65B', 'A21D'): 2,\n",
       " ('B65D', 'A01K'): 2,\n",
       " ('B65D', 'A21D'): 2,\n",
       " ('B65D', 'A63B'): 2,\n",
       " ('B65D', 'B65B'): 2,\n",
       " ('B65G', 'A01B'): 2,\n",
       " ('B65G', 'A01C'): 2,\n",
       " ('B65G', 'A01D'): 2,\n",
       " ('B65G', 'A01F'): 2,\n",
       " ('B65G', 'A22C'): 2,\n",
       " ('B65G', 'B60P'): 2,\n",
       " ('B66F', 'A01B'): 2,\n",
       " ('B66F', 'A01G'): 2,\n",
       " ('C05G', 'A01G'): 2,\n",
       " ('C05G', 'A01N'): 2,\n",
       " ('C07K', 'A01K'): 2,\n",
       " ('C08L', 'A23G'): 2,\n",
       " ('C12N', 'A01G'): 2,\n",
       " ('C12N', 'A01H'): 48,\n",
       " ('C12N', 'A01K'): 2,\n",
       " ('C12N', 'A01N'): 4,\n",
       " ('C12N', 'A23C'): 4,\n",
       " ('C12N', 'A23L'): 2,\n",
       " ('C12N', 'A61K'): 2,\n",
       " ('C12N', 'C07K'): 2,\n",
       " ('E02B', 'A01G'): 2,\n",
       " ('E02B', 'A01N'): 2,\n",
       " ('E02B', 'C05G'): 2,\n",
       " ('E02F', 'A01B'): 2,\n",
       " ('E02F', 'B07B'): 2,\n",
       " ('E06B', 'A01M'): 2,\n",
       " ('E06B', 'B62D'): 2,\n",
       " ('F16B', 'A01K'): 2,\n",
       " ('F16M', 'A01K'): 2,\n",
       " ('F16M', 'F16B'): 2,\n",
       " ('F21V', 'A01G'): 2,\n",
       " ('F21V', 'A01K'): 2,\n",
       " ('F21V', 'B25B'): 2,\n",
       " ('F24F', 'A01K'): 2,\n",
       " ('F24J', 'A01K'): 2,\n",
       " ('F24J', 'F24F'): 2,\n",
       " ('F25B', 'A23G'): 2,\n",
       " ('F25B', 'A23L'): 2,\n",
       " ('F25D', 'A23G'): 2,\n",
       " ('F25D', 'A23L'): 2,\n",
       " ('F25D', 'F25B'): 2,\n",
       " ('G01L', 'A01B'): 4,\n",
       " ('G01L', 'A01C'): 2,\n",
       " ('G01S', 'A01C'): 2,\n",
       " ('G08B', 'A01K'): 2,\n",
       " ('G08B', 'A61D'): 2}"
      ]
     },
     "execution_count": 16,
     "metadata": {},
     "output_type": "execute_result"
    }
   ],
   "source": [
    "co_edlst"
   ]
  },
  {
   "cell_type": "code",
   "execution_count": 17,
   "metadata": {
    "collapsed": true
   },
   "outputs": [],
   "source": [
    "import networkx as nx\n",
    "import matplotlib.pyplot as plt\n",
    "import pandas\n",
    "import collections"
   ]
  },
  {
   "cell_type": "code",
   "execution_count": 18,
   "metadata": {
    "collapsed": false
   },
   "outputs": [],
   "source": [
    "network_list=[]\n",
    "for k,v in co_edlst.items():\n",
    "    network_list.append((k[0],k[1],int(v)))"
   ]
  },
  {
   "cell_type": "code",
   "execution_count": 19,
   "metadata": {
    "collapsed": false
   },
   "outputs": [
    {
     "data": {
      "text/plain": [
       "[('B01F', 'A21D', 2),\n",
       " ('C12N', 'A01H', 48),\n",
       " ('G01L', 'A01B', 4),\n",
       " ('A45F', 'A42B', 2),\n",
       " ('F21V', 'A01G', 2),\n",
       " ('B60P', 'A01F', 2),\n",
       " ('F25D', 'A23G', 2),\n",
       " ('B65G', 'A01F', 2),\n",
       " ('E02F', 'A01B', 2),\n",
       " ('F21V', 'A01K', 2),\n",
       " ('A01H', 'A01G', 2),\n",
       " ('A01D', 'A01B', 2),\n",
       " ('G08B', 'A01K', 2),\n",
       " ('B26B', 'A01G', 2),\n",
       " ('A63H', 'A01K', 2),\n",
       " ('A21D', 'A21C', 4),\n",
       " ('E06B', 'A01M', 2),\n",
       " ('A01N', 'A01G', 2),\n",
       " ('A41D', 'A01M', 2),\n",
       " ('B65D', 'A21D', 2),\n",
       " ('F25D', 'A23L', 2),\n",
       " ('A61L', 'A01N', 2),\n",
       " ('B65B', 'A21D', 2),\n",
       " ('B65G', 'A01C', 2),\n",
       " ('A61L', 'A61K', 2),\n",
       " ('A23C', 'A01J', 2),\n",
       " ('F21V', 'B25B', 2),\n",
       " ('A42B', 'A01M', 2),\n",
       " ('F24J', 'A01K', 2),\n",
       " ('G08B', 'A61D', 2),\n",
       " ('F16B', 'A01K', 2),\n",
       " ('A61D', 'A01K', 2),\n",
       " ('C08L', 'A23G', 2),\n",
       " ('A23L', 'A01H', 2),\n",
       " ('G01L', 'A01C', 2),\n",
       " ('A01K', 'A01J', 2),\n",
       " ('C12N', 'A23C', 4),\n",
       " ('A01C', 'A01B', 8),\n",
       " ('A47J', 'A21C', 2),\n",
       " ('A23L', 'A23G', 2),\n",
       " ('C12N', 'A01K', 2),\n",
       " ('F25B', 'A23L', 2),\n",
       " ('B01F', 'A21C', 2),\n",
       " ('A23L', 'A23C', 2),\n",
       " ('A23L', 'A01J', 2),\n",
       " ('A61Q', 'A61K', 2),\n",
       " ('F16M', 'A01K', 2),\n",
       " ('F25D', 'F25B', 2),\n",
       " ('A45F', 'A01M', 2),\n",
       " ('C07K', 'A01K', 2),\n",
       " ('A01N', 'A01M', 2),\n",
       " ('A23P', 'A23G', 2),\n",
       " ('E02B', 'A01N', 2),\n",
       " ('C12N', 'C07K', 2),\n",
       " ('B65G', 'A22C', 2),\n",
       " ('C12N', 'A01G', 2),\n",
       " ('A61K', 'A01N', 8),\n",
       " ('A01F', 'A01B', 2),\n",
       " ('B60P', 'A01D', 2),\n",
       " ('B65D', 'A01K', 2),\n",
       " ('B66F', 'A01G', 2),\n",
       " ('C05G', 'A01N', 2),\n",
       " ('A61Q', 'A01N', 2),\n",
       " ('A45F', 'A41D', 2),\n",
       " ('B62D', 'A01M', 2),\n",
       " ('B07B', 'A01B', 2),\n",
       " ('B65G', 'B60P', 2),\n",
       " ('A21C', 'A21B', 2),\n",
       " ('B60P', 'A01B', 2),\n",
       " ('B65D', 'B65B', 2),\n",
       " ('A47J', 'A21B', 2),\n",
       " ('B65G', 'A01B', 2),\n",
       " ('F24J', 'F24F', 2),\n",
       " ('B25B', 'A01K', 2),\n",
       " ('E06B', 'B62D', 2),\n",
       " ('B66F', 'A01B', 2),\n",
       " ('B65G', 'A01D', 2),\n",
       " ('C12N', 'A23L', 2),\n",
       " ('C12N', 'A61K', 2),\n",
       " ('C05G', 'A01G', 2),\n",
       " ('A63B', 'A01K', 2),\n",
       " ('E02B', 'C05G', 2),\n",
       " ('E02F', 'B07B', 2),\n",
       " ('F16M', 'F16B', 2),\n",
       " ('C12N', 'A01N', 4),\n",
       " ('B65D', 'A63B', 2),\n",
       " ('F24F', 'A01K', 2),\n",
       " ('A42B', 'A41D', 2),\n",
       " ('A47J', 'A21D', 2),\n",
       " ('E02B', 'A01G', 2),\n",
       " ('F25B', 'A23G', 2),\n",
       " ('A01F', 'A01D', 6),\n",
       " ('A21D', 'A21B', 2),\n",
       " ('G01S', 'A01C', 2),\n",
       " ('A01G', 'A01B', 2)]"
      ]
     },
     "execution_count": 19,
     "metadata": {},
     "output_type": "execute_result"
    }
   ],
   "source": [
    "network_list"
   ]
  },
  {
   "cell_type": "code",
   "execution_count": 20,
   "metadata": {
    "collapsed": true
   },
   "outputs": [],
   "source": [
    "#add_weighted_edges_from([(0, 1, 3.0), (1, 2, 7.5)])\n",
    "P=nx.Graph()\n",
    "P.add_weighted_edges_from(network_list)"
   ]
  },
  {
   "cell_type": "code",
   "execution_count": 21,
   "metadata": {
    "collapsed": false
   },
   "outputs": [
    {
     "data": {
      "image/png": "[encoded data removed]",
      "text/plain": [
       "<matplotlib.figure.Figure at 0x1b41b38a7f0>"
      ]
     },
     "metadata": {},
     "output_type": "display_data"
    }
   ],
   "source": [
    "nx.draw_spring(P)\n",
    "plt.show()"
   ]
  },
  {
   "cell_type": "code",
   "execution_count": 23,
   "metadata": {
    "collapsed": false
   },
   "outputs": [
    {
     "data": {
      "text/plain": [
       "0.18518518518518517"
      ]
     },
     "execution_count": 23,
     "metadata": {},
     "output_type": "execute_result"
    }
   ],
   "source": [
    "nx.degree_centrality(P).get('A01B')\n",
    "#https://networkx.github.io/documentation/stable/reference/algorithms/centrality.html"
   ]
  },
  {
   "cell_type": "code",
   "execution_count": 22,
   "metadata": {
    "collapsed": false
   },
   "outputs": [
    {
     "data": {
      "text/plain": [
       "{'A01B': 0.18518518518518517,\n",
       " 'A01C': 0.07407407407407407,\n",
       " 'A01D': 0.07407407407407407,\n",
       " 'A01F': 0.07407407407407407,\n",
       " 'A01G': 0.16666666666666666,\n",
       " 'A01H': 0.05555555555555555,\n",
       " 'A01J': 0.05555555555555555,\n",
       " 'A01K': 0.25925925925925924,\n",
       " 'A01M': 0.1111111111111111,\n",
       " 'A01N': 0.14814814814814814,\n",
       " 'A21B': 0.05555555555555555,\n",
       " 'A21C': 0.07407407407407407,\n",
       " 'A21D': 0.1111111111111111,\n",
       " 'A22C': 0.018518518518518517,\n",
       " 'A23C': 0.05555555555555555,\n",
       " 'A23G': 0.09259259259259259,\n",
       " 'A23L': 0.12962962962962962,\n",
       " 'A23P': 0.018518518518518517,\n",
       " 'A41D': 0.05555555555555555,\n",
       " 'A42B': 0.05555555555555555,\n",
       " 'A45F': 0.05555555555555555,\n",
       " 'A47J': 0.05555555555555555,\n",
       " 'A61D': 0.037037037037037035,\n",
       " 'A61K': 0.07407407407407407,\n",
       " 'A61L': 0.037037037037037035,\n",
       " 'A61Q': 0.037037037037037035,\n",
       " 'A63B': 0.037037037037037035,\n",
       " 'A63H': 0.018518518518518517,\n",
       " 'B01F': 0.037037037037037035,\n",
       " 'B07B': 0.037037037037037035,\n",
       " 'B25B': 0.037037037037037035,\n",
       " 'B26B': 0.018518518518518517,\n",
       " 'B60P': 0.07407407407407407,\n",
       " 'B62D': 0.037037037037037035,\n",
       " 'B65B': 0.037037037037037035,\n",
       " 'B65D': 0.07407407407407407,\n",
       " 'B65G': 0.1111111111111111,\n",
       " 'B66F': 0.037037037037037035,\n",
       " 'C05G': 0.05555555555555555,\n",
       " 'C07K': 0.037037037037037035,\n",
       " 'C08L': 0.018518518518518517,\n",
       " 'C12N': 0.14814814814814814,\n",
       " 'E02B': 0.05555555555555555,\n",
       " 'E02F': 0.037037037037037035,\n",
       " 'E06B': 0.037037037037037035,\n",
       " 'F16B': 0.037037037037037035,\n",
       " 'F16M': 0.037037037037037035,\n",
       " 'F21V': 0.05555555555555555,\n",
       " 'F24F': 0.037037037037037035,\n",
       " 'F24J': 0.037037037037037035,\n",
       " 'F25B': 0.05555555555555555,\n",
       " 'F25D': 0.05555555555555555,\n",
       " 'G01L': 0.037037037037037035,\n",
       " 'G01S': 0.018518518518518517,\n",
       " 'G08B': 0.037037037037037035}"
      ]
     },
     "execution_count": 22,
     "metadata": {},
     "output_type": "execute_result"
    }
   ],
   "source": [
    "nx.degree_centrality(P)"
   ]
  },
  {
   "cell_type": "code",
   "execution_count": 24,
   "metadata": {
    "collapsed": false
   },
   "outputs": [
    {
     "data": {
      "text/plain": [
       "{'A01B': 0.3157894736842105,\n",
       " 'A01C': 0.2465753424657534,\n",
       " 'A01D': 0.24545454545454545,\n",
       " 'A01F': 0.24545454545454545,\n",
       " 'A01G': 0.38848920863309355,\n",
       " 'A01H': 0.34177215189873417,\n",
       " 'A01J': 0.29508196721311475,\n",
       " 'A01K': 0.3724137931034483,\n",
       " 'A01M': 0.2857142857142857,\n",
       " 'A01N': 0.3698630136986301,\n",
       " 'A21B': 0.19285714285714287,\n",
       " 'A21C': 0.1935483870967742,\n",
       " 'A21D': 0.23580786026200873,\n",
       " 'A22C': 0.2,\n",
       " 'A23C': 0.3103448275862069,\n",
       " 'A23G': 0.25116279069767444,\n",
       " 'A23L': 0.32142857142857145,\n",
       " 'A23P': 0.20149253731343283,\n",
       " 'A41D': 0.225,\n",
       " 'A42B': 0.225,\n",
       " 'A45F': 0.225,\n",
       " 'A47J': 0.19285714285714287,\n",
       " 'A61D': 0.27411167512690354,\n",
       " 'A61K': 0.31952662721893493,\n",
       " 'A61L': 0.2727272727272727,\n",
       " 'A61Q': 0.2727272727272727,\n",
       " 'A63B': 0.28272251308900526,\n",
       " 'A63H': 0.2727272727272727,\n",
       " 'B01F': 0.19217081850533807,\n",
       " 'B07B': 0.242152466367713,\n",
       " 'B25B': 0.2983425414364641,\n",
       " 'B26B': 0.28125,\n",
       " 'B60P': 0.24545454545454545,\n",
       " 'B62D': 0.22406639004149378,\n",
       " 'B65B': 0.2317596566523605,\n",
       " 'B65D': 0.2918918918918919,\n",
       " 'B65G': 0.2488479262672811,\n",
       " 'B66F': 0.2983425414364641,\n",
       " 'C05G': 0.2983425414364641,\n",
       " 'C07K': 0.3312883435582822,\n",
       " 'C08L': 0.20149253731343283,\n",
       " 'C12N': 0.4186046511627907,\n",
       " 'E02B': 0.2983425414364641,\n",
       " 'E02F': 0.242152466367713,\n",
       " 'E06B': 0.22406639004149378,\n",
       " 'F16B': 0.27411167512690354,\n",
       " 'F16M': 0.27411167512690354,\n",
       " 'F21V': 0.34838709677419355,\n",
       " 'F24F': 0.27411167512690354,\n",
       " 'F24J': 0.27411167512690354,\n",
       " 'F25B': 0.2488479262672811,\n",
       " 'F25D': 0.2488479262672811,\n",
       " 'G01L': 0.24324324324324326,\n",
       " 'G01S': 0.19852941176470587,\n",
       " 'G08B': 0.27411167512690354}"
      ]
     },
     "execution_count": 24,
     "metadata": {},
     "output_type": "execute_result"
    }
   ],
   "source": [
    "nx.closeness_centrality(P)"
   ]
  },
  {
   "cell_type": "code",
   "execution_count": 27,
   "metadata": {
    "collapsed": false
   },
   "outputs": [
    {
     "data": {
      "text/plain": [
       "{'A01B': 0.323549965059399,\n",
       " 'A01C': 0.03773584905660377,\n",
       " 'A01D': 0.0,\n",
       " 'A01F': 0.0,\n",
       " 'A01G': 0.42481947356161187,\n",
       " 'A01H': 0.035324947589098536,\n",
       " 'A01J': 0.0428604705334265,\n",
       " 'A01K': 0.4841719077568134,\n",
       " 'A01M': 0.17540181691125087,\n",
       " 'A01N': 0.2647915210808293,\n",
       " 'A21B': 0.0,\n",
       " 'A21C': 0.0006988120195667365,\n",
       " 'A21D': 0.14046121593291405,\n",
       " 'A22C': 0.0,\n",
       " 'A23C': 0.004868390402981597,\n",
       " 'A23G': 0.07337526205450734,\n",
       " 'A23L': 0.17925692988586064,\n",
       " 'A23P': 0.0,\n",
       " 'A41D': 0.0,\n",
       " 'A42B': 0.0,\n",
       " 'A45F': 0.0,\n",
       " 'A47J': 0.0,\n",
       " 'A61D': 0.0,\n",
       " 'A61K': 0.01945026787794083,\n",
       " 'A61L': 0.0,\n",
       " 'A61Q': 0.0,\n",
       " 'A63B': 0.0,\n",
       " 'A63H': 0.0,\n",
       " 'B01F': 0.0,\n",
       " 'B07B': 0.0,\n",
       " 'B25B': 0.0,\n",
       " 'B26B': 0.0,\n",
       " 'B60P': 0.0,\n",
       " 'B62D': 0.0,\n",
       " 'B65B': 0.0,\n",
       " 'B65D': 0.2012578616352201,\n",
       " 'B65G': 0.039133473095737246,\n",
       " 'B66F': 0.0,\n",
       " 'C05G': 0.0,\n",
       " 'C07K': 0.0,\n",
       " 'C08L': 0.0,\n",
       " 'C12N': 0.40722105753552296,\n",
       " 'E02B': 0.0,\n",
       " 'E02F': 0.0,\n",
       " 'E06B': 0.0,\n",
       " 'F16B': 0.0,\n",
       " 'F16M': 0.0,\n",
       " 'F21V': 0.10229443279757743,\n",
       " 'F24F': 0.0,\n",
       " 'F24J': 0.0,\n",
       " 'F25B': 0.0,\n",
       " 'F25D': 0.0,\n",
       " 'G01L': 0.0,\n",
       " 'G01S': 0.0,\n",
       " 'G08B': 0.0}"
      ]
     },
     "execution_count": 27,
     "metadata": {},
     "output_type": "execute_result"
    }
   ],
   "source": [
    "nx.betweenness_centrality(P)"
   ]
  }
 ],
 "metadata": {
  "anaconda-cloud": {},
  "kernelspec": {
   "display_name": "Python [conda root]",
   "language": "python",
   "name": "conda-root-py"
  },
  "language_info": {
   "codemirror_mode": {
    "name": "ipython",
    "version": 3
   },
   "file_extension": ".py",
   "mimetype": "text/x-python",
   "name": "python",
   "nbconvert_exporter": "python",
   "pygments_lexer": "ipython3",
   "version": "3.5.2"
  }
 },
 "nbformat": 4,
 "nbformat_minor": 1
}
